{
 "cells": [
  {
   "cell_type": "code",
   "execution_count": 1,
   "metadata": {},
   "outputs": [],
   "source": [
    "import sympy as smp\n",
    "\n",
    "def calcular_metrica(variables: str, x: str, y: str, z: str):\n",
    "    \"\"\"\n",
    "    Calcula la métrica dado un cambio de coordenadas x, y, z = f(variables), g(variables), h(variables)\n",
    "    variables debe ser algo como \"u v w\" o r\"r theta phi\" \n",
    "\n",
    "    Ejemplo: Métrica del cambio a coords esféricas. variables = \"r theta phi\",\n",
    "    x = \"r*sin(theta)*cos(phi)\", y = \"r*sin(theta)*sin(phi)\", z = \"r*cos(theta)\"\n",
    "\n",
    "    Util: https://physics.stackexchange.com/questions/321781/how-is-the-spherical-coordinate-metric-tensor-derived\n",
    "    \"\"\"\n",
    "    nuevas_variables = smp.symbols(variables)\n",
    "\n",
    "    x, y, z = smp.sympify(x), smp.sympify(y), smp.sympify(z)\n",
    "\n",
    "    g = [[0]*3]*3\n",
    "\n",
    "    for i in range(0, 3):\n",
    "        for j in range(0, 3):\n",
    "            for v in [x, y, z]:\n",
    "                g[i][j] += smp.diff(v, nuevas_variables[i])*smp.diff(v, nuevas_variables[j])\n",
    "            g[i][j] = g[i][j].simplify()\n",
    "            print(g[i][j], end=\"  \")\n",
    "        print()\n",
    "\n",
    "    return g"
   ]
  },
  {
   "cell_type": "code",
   "execution_count": 2,
   "metadata": {},
   "outputs": [],
   "source": [
    "variables = \"r theta phi\"\n",
    "x, y, z = \"r*sin(theta)*cos(phi)\", \"r*sin(theta)*sin(phi)\", \"r*cos(theta)\"\n",
    "\n",
    "nuevas_variables = smp.symbols(variables)\n",
    "\n",
    "x, y, z = smp.sympify(x), smp.sympify(y), smp.sympify(z)"
   ]
  },
  {
   "cell_type": "code",
   "execution_count": 3,
   "metadata": {},
   "outputs": [],
   "source": [
    "g = [[0]*3 for _ in range(3)] # this does not work: [[0]*3]*3\n",
    "\n",
    "for i in range(0, 3):\n",
    "    for j in range(0, 3):\n",
    "        #print(nuevas_variables[i], nuevas_variables[j], end=\" \")\n",
    "        for v in [x, y, z]:\n",
    "            #print(\"  \", g[i][j])\n",
    "            g[i][j] += smp.diff(v, nuevas_variables[i])*smp.diff(v, nuevas_variables[j])\n",
    "        g[i][j] = g[i][j].simplify()\n",
    "        #print(g[i][j], end=\"  \")\n",
    "    #print()"
   ]
  },
  {
   "cell_type": "code",
   "execution_count": 4,
   "metadata": {},
   "outputs": [],
   "source": [
    "for i in range(0, 3):\n",
    "    for j in range(0, 3):\n",
    "        g[i][j] = smp.diff(x, nuevas_variables[i])*smp.diff(x, nuevas_variables[j]) + smp.diff(y, nuevas_variables[i])*smp.diff(y, nuevas_variables[j]) + smp.diff(z, nuevas_variables[i])*smp.diff(z, nuevas_variables[j])\n",
    "        g[i][j] = g[i][j].simplify()"
   ]
  },
  {
   "cell_type": "code",
   "execution_count": 5,
   "metadata": {},
   "outputs": [
    {
     "name": "stdout",
     "output_type": "stream",
     "text": [
      "1\n",
      "0\n",
      "0\n",
      "\n",
      "0\n",
      "r**2\n",
      "0\n",
      "\n",
      "0\n",
      "0\n",
      "r**2*sin(theta)**2\n",
      "\n"
     ]
    }
   ],
   "source": [
    "for i in range(0, 3): \n",
    "    for j in range(0, 3):\n",
    "        print(g[i][j])\n",
    "    print()"
   ]
  },
  {
   "cell_type": "code",
   "execution_count": 6,
   "metadata": {},
   "outputs": [
    {
     "data": {
      "text/latex": [
       "$\\displaystyle \\phi$"
      ],
      "text/plain": [
       "phi"
      ]
     },
     "execution_count": 6,
     "metadata": {},
     "output_type": "execute_result"
    }
   ],
   "source": [
    "nuevas_variables[2]"
   ]
  },
  {
   "cell_type": "code",
   "execution_count": 7,
   "metadata": {},
   "outputs": [
    {
     "data": {
      "text/plain": [
       "[[0, 0, 0], [0, 0, 0], [0, 0, 0]]"
      ]
     },
     "execution_count": 7,
     "metadata": {},
     "output_type": "execute_result"
    }
   ],
   "source": [
    "[[0]*3]*3"
   ]
  },
  {
   "cell_type": "code",
   "execution_count": 8,
   "metadata": {},
   "outputs": [
    {
     "data": {
      "text/plain": [
       "[[0, 0, 0], [0, 0, 0], [0, 0, 0]]"
      ]
     },
     "execution_count": 8,
     "metadata": {},
     "output_type": "execute_result"
    }
   ],
   "source": [
    "[[0]*3 for _ in range(3)]"
   ]
  },
  {
   "cell_type": "code",
   "execution_count": 9,
   "metadata": {},
   "outputs": [],
   "source": [
    "tau = smp.symbols(\"tau\")\n",
    "\n",
    "u, v, w = smp.symbols(variables, cls=smp.Function)\n",
    "\n",
    "u = u(tau)\n",
    "v = v(tau)\n",
    "w = w(tau)"
   ]
  },
  {
   "cell_type": "code",
   "execution_count": 10,
   "metadata": {},
   "outputs": [],
   "source": [
    "x, y, z = smp.sympify(x), smp.sympify(y), smp.sympify(z)"
   ]
  },
  {
   "cell_type": "code",
   "execution_count": 11,
   "metadata": {},
   "outputs": [],
   "source": [
    "achtung = x.subs(smp.symbols(\"r\"), u).subs(smp.symbols(\"theta\"), v).subs(smp.symbols(\"phi\"), w)"
   ]
  },
  {
   "cell_type": "code",
   "execution_count": 12,
   "metadata": {},
   "outputs": [
    {
     "data": {
      "text/latex": [
       "$\\displaystyle \\sin{\\left(\\theta{\\left(\\tau \\right)} \\right)} \\cos{\\left(\\phi{\\left(\\tau \\right)} \\right)}$"
      ],
      "text/plain": [
       "sin(theta(tau))*cos(phi(tau))"
      ]
     },
     "execution_count": 12,
     "metadata": {},
     "output_type": "execute_result"
    }
   ],
   "source": [
    "smp.diff(achtung, u)"
   ]
  },
  {
   "cell_type": "markdown",
   "metadata": {},
   "source": [
    "Why doesn't one of the ways of creating the matrix work?"
   ]
  },
  {
   "cell_type": "code",
   "execution_count": 13,
   "metadata": {},
   "outputs": [
    {
     "name": "stdout",
     "output_type": "stream",
     "text": [
      "[[100, 0, 0], [100, 0, 0], [100, 0, 0]]\n"
     ]
    }
   ],
   "source": [
    "l = [[0]*3]*3\n",
    "l[0][0] = 100\n",
    "print(l) # It creates the same list three times. This does not feel like it is intended"
   ]
  },
  {
   "cell_type": "code",
   "execution_count": 14,
   "metadata": {},
   "outputs": [],
   "source": [
    "ec = smp.sympify(\"Eq(-2*r**2*(sin(theta(tau))*Derivative(phi(tau), (tau, 2)) + 2*cos(theta(tau))*Derivative(phi(tau), tau)*Derivative(theta(tau), tau))*sin(theta(tau)), 0)\")"
   ]
  },
  {
   "cell_type": "code",
   "execution_count": 15,
   "metadata": {},
   "outputs": [
    {
     "data": {
      "text/latex": [
       "$\\displaystyle - 2 r^{2} \\left(\\sin{\\left(\\theta{\\left(\\tau \\right)} \\right)} \\frac{d^{2}}{d \\tau^{2}} \\phi{\\left(\\tau \\right)} + 2 \\cos{\\left(\\theta{\\left(\\tau \\right)} \\right)} \\frac{d}{d \\tau} \\phi{\\left(\\tau \\right)} \\frac{d}{d \\tau} \\theta{\\left(\\tau \\right)}\\right) \\sin{\\left(\\theta{\\left(\\tau \\right)} \\right)} = 0$"
      ],
      "text/plain": [
       "Eq(-2*r**2*(sin(theta(tau))*Derivative(phi(tau), (tau, 2)) + 2*cos(theta(tau))*Derivative(phi(tau), tau)*Derivative(theta(tau), tau))*sin(theta(tau)), 0)"
      ]
     },
     "execution_count": 15,
     "metadata": {},
     "output_type": "execute_result"
    }
   ],
   "source": [
    "ec"
   ]
  },
  {
   "cell_type": "code",
   "execution_count": 19,
   "metadata": {},
   "outputs": [
    {
     "data": {
      "text/plain": [
       "2"
      ]
     },
     "execution_count": 19,
     "metadata": {},
     "output_type": "execute_result"
    }
   ],
   "source": [
    "# This feels like a bug\n",
    "import numpy as np\n",
    "import sympy as smp\n",
    "\n",
    "x = smp.symbols(\"x\")\n",
    "\n",
    "expresion = smp.sympify(\"2\") # The expression has to have x\n",
    "\n",
    "l = smp.lambdify(x, expresion)\n",
    "\n",
    "l(np.linspace(0, 1, 10))"
   ]
  },
  {
   "cell_type": "code",
   "execution_count": 22,
   "metadata": {},
   "outputs": [
    {
     "name": "stdout",
     "output_type": "stream",
     "text": [
      "2\n",
      "[2 2 2 2 2 2 2 2 2 2]\n"
     ]
    }
   ],
   "source": [
    "# It seems the issue is with applying a constant lambda to a linspace\n",
    "l = lambda x: 2\n",
    "\n",
    "print(l(np.linspace(0, 1, 10)))\n",
    "\n",
    "vec_l = np.vectorize(l)\n",
    "\n",
    "print(vec_l(np.linspace(0, 1, 10)))"
   ]
  },
  {
   "cell_type": "code",
   "execution_count": null,
   "metadata": {},
   "outputs": [],
   "source": []
  }
 ],
 "metadata": {
  "kernelspec": {
   "display_name": "Python 3",
   "language": "python",
   "name": "python3"
  },
  "language_info": {
   "codemirror_mode": {
    "name": "ipython",
    "version": 3
   },
   "file_extension": ".py",
   "mimetype": "text/x-python",
   "name": "python",
   "nbconvert_exporter": "python",
   "pygments_lexer": "ipython3",
   "version": "3.11.1"
  }
 },
 "nbformat": 4,
 "nbformat_minor": 2
}
