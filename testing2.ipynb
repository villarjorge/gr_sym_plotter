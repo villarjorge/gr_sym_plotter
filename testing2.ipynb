{
 "cells": [
  {
   "cell_type": "code",
   "execution_count": 1,
   "metadata": {},
   "outputs": [],
   "source": [
    "import sympy as smp\n",
    "from itertools import product"
   ]
  },
  {
   "cell_type": "code",
   "execution_count": 2,
   "metadata": {},
   "outputs": [],
   "source": [
    "tau = smp.symbols(\"tau\")\n",
    "\n",
    "rho, phi = smp.symbols(\"rho phi\", cls=smp.Function)\n",
    "rho = rho(tau)\n",
    "phi = phi(tau)"
   ]
  },
  {
   "cell_type": "code",
   "execution_count": 3,
   "metadata": {},
   "outputs": [],
   "source": [
    "x = rho*smp.cos(phi)\n",
    "y = rho*smp.sin(phi)\n",
    "z = smp.trigsimp(smp.Rational(1, 2)*(x*x + y*y))"
   ]
  },
  {
   "cell_type": "code",
   "execution_count": 4,
   "metadata": {},
   "outputs": [],
   "source": [
    "variables = [rho, phi]\n",
    "n = len(variables)\n",
    "g = [[0]*n for _ in range(n)]\n",
    "\n",
    "for i in range(0, n):\n",
    "    for j in range(0, n):\n",
    "        for v in [x, y, z]:\n",
    "            g[i][j] += smp.diff(v, variables[i])*smp.diff(v, variables[j])\n",
    "        g[i][j] = g[i][j].simplify()"
   ]
  },
  {
   "cell_type": "code",
   "execution_count": 5,
   "metadata": {},
   "outputs": [
    {
     "data": {
      "text/latex": [
       "$\\displaystyle \\rho^{2}{\\left(\\tau \\right)} + 1$"
      ],
      "text/plain": [
       "rho(tau)**2 + 1"
      ]
     },
     "execution_count": 5,
     "metadata": {},
     "output_type": "execute_result"
    }
   ],
   "source": [
    "g[0][0]"
   ]
  },
  {
   "cell_type": "code",
   "execution_count": 6,
   "metadata": {},
   "outputs": [
    {
     "data": {
      "text/latex": [
       "$\\displaystyle \\rho^{2}{\\left(\\tau \\right)}$"
      ],
      "text/plain": [
       "rho(tau)**2"
      ]
     },
     "execution_count": 6,
     "metadata": {},
     "output_type": "execute_result"
    }
   ],
   "source": [
    "g[1][1]"
   ]
  },
  {
   "cell_type": "code",
   "execution_count": 7,
   "metadata": {},
   "outputs": [],
   "source": [
    "L = smp.sympify(0)\n",
    "\n",
    "for i in range(0, n):\n",
    "    for j in range(0, n):\n",
    "        L += g[i][j]*smp.diff(variables[i], tau)*smp.diff(variables[j], tau)\n",
    "\n",
    "# Estas tres lineas toman algo de tiempo\n",
    "eel = smp.euler_equations(L, variables, tau)"
   ]
  },
  {
   "cell_type": "code",
   "execution_count": 8,
   "metadata": {},
   "outputs": [],
   "source": [
    "Gamma = [[[0 for _ in range(n)] for _ in range(n)] for _ in range(n)] # Matriz 2*2*2\n",
    "\n",
    "for i in range(0, n): # primer indice\n",
    "    # Resolvemos d^2/dt^2 (v^i) = elem\n",
    "    elem = smp.solve(eel[i], smp.diff(variables[i], tau, tau))[0]\n",
    "    elem = smp.expand(elem)\n",
    "    # elem será una suma de coeficientes lineares en las derivadas de las variables_tau\n",
    "    # Por ahora hacemos un loop doble, pero tal vez sería posible extraer las derivadas directamente\n",
    "    # https://docs.sympy.org/latest/index.html\n",
    "    for j in range(0, n):\n",
    "        for k in range(0, n):\n",
    "            var = smp.diff(variables[j], tau)*smp.diff(variables[k], tau)\n",
    "            Gamma[i][j][k] = -elem.coeff(var)\n",
    "            if j != k: # The common pitfall\n",
    "                Gamma[i][j][k] = Gamma[i][j][k]/2"
   ]
  },
  {
   "cell_type": "code",
   "execution_count": 9,
   "metadata": {},
   "outputs": [
    {
     "data": {
      "text/latex": [
       "$\\displaystyle \\frac{\\rho{\\left(\\tau \\right)}}{\\rho^{2}{\\left(\\tau \\right)} + 1}$"
      ],
      "text/plain": [
       "rho(tau)/(rho(tau)**2 + 1)"
      ]
     },
     "execution_count": 9,
     "metadata": {},
     "output_type": "execute_result"
    }
   ],
   "source": [
    "Gamma[0][0][0]"
   ]
  },
  {
   "cell_type": "code",
   "execution_count": 10,
   "metadata": {},
   "outputs": [
    {
     "data": {
      "text/latex": [
       "$\\displaystyle - \\frac{\\rho{\\left(\\tau \\right)}}{\\rho^{2}{\\left(\\tau \\right)} + 1}$"
      ],
      "text/plain": [
       "-rho(tau)/(rho(tau)**2 + 1)"
      ]
     },
     "execution_count": 10,
     "metadata": {},
     "output_type": "execute_result"
    }
   ],
   "source": [
    "Gamma[0][1][1]"
   ]
  },
  {
   "cell_type": "code",
   "execution_count": 11,
   "metadata": {},
   "outputs": [
    {
     "data": {
      "text/latex": [
       "$\\displaystyle \\frac{1}{\\rho{\\left(\\tau \\right)}}$"
      ],
      "text/plain": [
       "1/rho(tau)"
      ]
     },
     "execution_count": 11,
     "metadata": {},
     "output_type": "execute_result"
    }
   ],
   "source": [
    "Gamma[1][0][1]"
   ]
  },
  {
   "cell_type": "code",
   "execution_count": 12,
   "metadata": {},
   "outputs": [
    {
     "data": {
      "text/latex": [
       "$\\displaystyle \\frac{1}{\\rho{\\left(\\tau \\right)}}$"
      ],
      "text/plain": [
       "1/rho(tau)"
      ]
     },
     "execution_count": 12,
     "metadata": {},
     "output_type": "execute_result"
    }
   ],
   "source": [
    "Gamma[1][1][0]"
   ]
  },
  {
   "cell_type": "code",
   "execution_count": 13,
   "metadata": {},
   "outputs": [],
   "source": [
    "Riemman = [[[[0 for _ in range(2)] for _ in range(2)] for _ in range(2)] for _ in range(2)] # Matriz 2*2*2*2\n",
    "\n",
    "for i, j, k, l in product(range(0, 2), repeat=4):\n",
    "    Riemman[i][j][k][l] = smp.diff(Gamma[i][l][j], variables[k]) - smp.diff(Gamma[i][k][j], variables[l])\n",
    "    for alpha in range(0, 2):\n",
    "        Riemman[i][j][k][l] += Gamma[i][k][alpha]*Gamma[alpha][l][j] - Gamma[i][l][alpha]*Gamma[alpha][k][j]\n",
    "    # https://docs.sympy.org/latest/tutorials/intro-tutorial/simplification.html#trigsimp\n",
    "    Riemman[i][j][k][l] = smp.simplify(Riemman[i][j][k][l])"
   ]
  },
  {
   "cell_type": "code",
   "execution_count": 14,
   "metadata": {},
   "outputs": [
    {
     "data": {
      "text/latex": [
       "$\\displaystyle \\frac{1}{\\rho^{2}{\\left(\\tau \\right)} + 1}$"
      ],
      "text/plain": [
       "1/(rho(tau)**2 + 1)"
      ]
     },
     "execution_count": 14,
     "metadata": {},
     "output_type": "execute_result"
    }
   ],
   "source": [
    "Riemman[1][0][1][0]"
   ]
  },
  {
   "cell_type": "code",
   "execution_count": 15,
   "metadata": {},
   "outputs": [
    {
     "data": {
      "text/latex": [
       "$\\displaystyle - \\frac{1}{\\rho^{2}{\\left(\\tau \\right)} + 1}$"
      ],
      "text/plain": [
       "-1/(rho(tau)**2 + 1)"
      ]
     },
     "execution_count": 15,
     "metadata": {},
     "output_type": "execute_result"
    }
   ],
   "source": [
    "Riemman[1][0][0][1]"
   ]
  },
  {
   "cell_type": "code",
   "execution_count": 16,
   "metadata": {},
   "outputs": [
    {
     "data": {
      "text/latex": [
       "$\\displaystyle - \\frac{\\rho^{2}{\\left(\\tau \\right)}}{\\left(\\rho^{2}{\\left(\\tau \\right)} + 1\\right)^{2}}$"
      ],
      "text/plain": [
       "-rho(tau)**2/(rho(tau)**2 + 1)**2"
      ]
     },
     "execution_count": 16,
     "metadata": {},
     "output_type": "execute_result"
    }
   ],
   "source": [
    "Riemman[0][1][1][0]"
   ]
  },
  {
   "cell_type": "code",
   "execution_count": 17,
   "metadata": {},
   "outputs": [
    {
     "data": {
      "text/latex": [
       "$\\displaystyle \\frac{\\rho^{2}{\\left(\\tau \\right)}}{\\left(\\rho^{2}{\\left(\\tau \\right)} + 1\\right)^{2}}$"
      ],
      "text/plain": [
       "rho(tau)**2/(rho(tau)**2 + 1)**2"
      ]
     },
     "execution_count": 17,
     "metadata": {},
     "output_type": "execute_result"
    }
   ],
   "source": [
    "Riemman[0][1][0][1]"
   ]
  },
  {
   "cell_type": "code",
   "execution_count": 18,
   "metadata": {},
   "outputs": [],
   "source": [
    "Ricci = [[0]*2 for _ in range(n)] # this does not work: [[0]*3]*3\n",
    "\n",
    "for i, j in product(range(0, n), repeat=2):\n",
    "    for alpha in range(0, n):\n",
    "        Ricci[i][j] += Riemman[alpha][i][alpha][j]"
   ]
  },
  {
   "cell_type": "code",
   "execution_count": 19,
   "metadata": {},
   "outputs": [
    {
     "data": {
      "text/latex": [
       "$\\displaystyle \\frac{\\rho^{2}{\\left(\\tau \\right)}}{\\left(\\rho^{2}{\\left(\\tau \\right)} + 1\\right)^{2}}$"
      ],
      "text/plain": [
       "rho(tau)**2/(rho(tau)**2 + 1)**2"
      ]
     },
     "execution_count": 19,
     "metadata": {},
     "output_type": "execute_result"
    }
   ],
   "source": [
    "Ricci[1][1]"
   ]
  },
  {
   "cell_type": "code",
   "execution_count": 20,
   "metadata": {},
   "outputs": [
    {
     "data": {
      "text/latex": [
       "$\\displaystyle \\frac{2}{\\left(\\rho^{2}{\\left(\\tau \\right)} + 1\\right)^{2}}$"
      ],
      "text/plain": [
       "2/(rho(tau)**2 + 1)**2"
      ]
     },
     "execution_count": 20,
     "metadata": {},
     "output_type": "execute_result"
    }
   ],
   "source": [
    "R = smp.sympify(0)\n",
    "\n",
    "for i, j in product(range(0, 2), repeat=2):\n",
    "    R += (smp.Matrix(g)**(-1)).row(i)[j]*Ricci[i][j]\n",
    "\n",
    "R"
   ]
  },
  {
   "cell_type": "markdown",
   "metadata": {},
   "source": [
    "Lo hacemos más general con una función"
   ]
  },
  {
   "cell_type": "code",
   "execution_count": 58,
   "metadata": {},
   "outputs": [],
   "source": [
    "import sympy as smp\n",
    "from itertools import product\n",
    "\n",
    "def computar(variables_str, g):\n",
    "    \"\"\"\n",
    "    Con la métrica como una matriz de strings, calcular simbolos de christoffel, etc\n",
    "    \"\"\"\n",
    "    tau = smp.symbols(\"tau\")\n",
    "\n",
    "    u, v = smp.symbols(variables_str, cls=smp.Function)\n",
    "    u = u(tau)\n",
    "    v = v(tau)\n",
    "\n",
    "    variables = [u, v]\n",
    "\n",
    "    n = len(variables)\n",
    "    \n",
    "    for i, j in product(range(0, n), repeat=2):\n",
    "        g[i][j] = smp.sympify(g[i][j])\n",
    "\n",
    "    L = smp.sympify(0)\n",
    "\n",
    "    for i, j in product(range(0, n), repeat=2):\n",
    "            L += g[i][j]*smp.diff(variables[i], tau)*smp.diff(variables[j], tau)\n",
    "    \n",
    "    # Estas tres lineas toman algo de tiempo\n",
    "    eel = smp.euler_equations(L, variables, tau)\n",
    "\n",
    "    Gamma = [[[0 for _ in range(n)] for _ in range(n)] for _ in range(n)] # Matriz 2*2*2\n",
    "\n",
    "    for i in range(0, n): # primer indice\n",
    "        # Resolvemos d^2/dt^2 (v^i) = elem\n",
    "        elem = smp.solve(eel[i], smp.diff(variables[i], tau, tau))[0]\n",
    "        elem = smp.expand(elem)\n",
    "        # elem será una suma de coeficientes lineares en las derivadas de las variables_tau\n",
    "        # Por ahora hacemos un loop doble, pero tal vez sería posible extraer las derivadas directamente\n",
    "        # https://docs.sympy.org/latest/index.html\n",
    "        for j, k in product(range(0, n), repeat=2):\n",
    "            var = smp.diff(variables[j], tau)*smp.diff(variables[k], tau)\n",
    "            Gamma[i][j][k] = -elem.coeff(var)\n",
    "            if j != k: # The common pitfall\n",
    "                Gamma[i][j][k] = Gamma[i][j][k]/2\n",
    "                    \n",
    "    Riemman = [[[[0 for _ in range(n)] for _ in range(n)] for _ in range(n)] for _ in range(n)] # Matriz 2*2*2*2\n",
    "\n",
    "    for i, j, k, l in product(range(0, n), repeat=4):\n",
    "        Riemman[i][j][k][l] = smp.diff(Gamma[i][l][j], variables[k]) - smp.diff(Gamma[i][k][j], variables[l])\n",
    "        for alpha in range(0, n):\n",
    "            Riemman[i][j][k][l] += Gamma[i][k][alpha]*Gamma[alpha][l][j] - Gamma[i][l][alpha]*Gamma[alpha][k][j]\n",
    "        # https://docs.sympy.org/latest/tutorials/intro-tutorial/simplification.html#trigsimp\n",
    "        Riemman[i][j][k][l] = smp.simplify(Riemman[i][j][k][l])\n",
    "\n",
    "    Ricci = [[0]*2 for _ in range(n)] # this does not work: [[0]*3]*3\n",
    "\n",
    "    for i, j in product(range(0, n), repeat=2):\n",
    "        for alpha in range(0, n):\n",
    "            Ricci[i][j] += Riemman[alpha][i][alpha][j]\n",
    "\n",
    "    R = smp.sympify(0)\n",
    "\n",
    "    for i, j in product(range(0, n), repeat=2):\n",
    "        R += (smp.Matrix(g)**(-1)).row(i)[j]*Ricci[i][j]\n",
    "\n",
    "    return Gamma, Riemman, Ricci, R"
   ]
  },
  {
   "cell_type": "code",
   "execution_count": 59,
   "metadata": {},
   "outputs": [],
   "source": [
    "# Ejercicio 7: Apartados a y b\n",
    "variables = \"chi phi\"\n",
    "g = [[\"a^2\", \"0\"], [\"0\", \"(a^2)*sinh(chi(tau))^2\"]] # (a^2)*\n",
    "\n",
    "# result = computar(variables, g)\n",
    "\n",
    "Gamma, Riemman, Ricci, R = computar(variables, g)"
   ]
  },
  {
   "cell_type": "code",
   "execution_count": 60,
   "metadata": {},
   "outputs": [
    {
     "data": {
      "text/latex": [
       "$\\displaystyle - \\frac{\\sinh{\\left(2 \\chi{\\left(\\tau \\right)} \\right)}}{2}$"
      ],
      "text/plain": [
       "-sinh(2*chi(tau))/2"
      ]
     },
     "execution_count": 60,
     "metadata": {},
     "output_type": "execute_result"
    }
   ],
   "source": [
    "Gamma[0][1][1]"
   ]
  },
  {
   "cell_type": "code",
   "execution_count": 61,
   "metadata": {},
   "outputs": [
    {
     "data": {
      "text/latex": [
       "$\\displaystyle \\frac{1}{\\tanh{\\left(\\chi{\\left(\\tau \\right)} \\right)}}$"
      ],
      "text/plain": [
       "1/tanh(chi(tau))"
      ]
     },
     "execution_count": 61,
     "metadata": {},
     "output_type": "execute_result"
    }
   ],
   "source": [
    "Gamma[1][0][1]"
   ]
  },
  {
   "cell_type": "code",
   "execution_count": 62,
   "metadata": {},
   "outputs": [
    {
     "data": {
      "text/latex": [
       "$\\displaystyle \\frac{1}{\\tanh{\\left(\\chi{\\left(\\tau \\right)} \\right)}}$"
      ],
      "text/plain": [
       "1/tanh(chi(tau))"
      ]
     },
     "execution_count": 62,
     "metadata": {},
     "output_type": "execute_result"
    }
   ],
   "source": [
    "Gamma[1][1][0]"
   ]
  },
  {
   "cell_type": "code",
   "execution_count": 63,
   "metadata": {},
   "outputs": [
    {
     "data": {
      "text/latex": [
       "$\\displaystyle -1$"
      ],
      "text/plain": [
       "-1"
      ]
     },
     "execution_count": 63,
     "metadata": {},
     "output_type": "execute_result"
    }
   ],
   "source": [
    "Riemman[1][0][1][0]"
   ]
  },
  {
   "cell_type": "code",
   "execution_count": 64,
   "metadata": {},
   "outputs": [
    {
     "data": {
      "text/latex": [
       "$\\displaystyle - \\sinh^{2}{\\left(\\chi{\\left(\\tau \\right)} \\right)}$"
      ],
      "text/plain": [
       "-sinh(chi(tau))**2"
      ]
     },
     "execution_count": 64,
     "metadata": {},
     "output_type": "execute_result"
    }
   ],
   "source": [
    "smp.trigsimp(smp.expand_trig(Riemman[0][1][0][1]))"
   ]
  },
  {
   "cell_type": "code",
   "execution_count": 65,
   "metadata": {},
   "outputs": [
    {
     "data": {
      "text/latex": [
       "$\\displaystyle -1$"
      ],
      "text/plain": [
       "-1"
      ]
     },
     "execution_count": 65,
     "metadata": {},
     "output_type": "execute_result"
    }
   ],
   "source": [
    "Ricci[0][0]"
   ]
  },
  {
   "cell_type": "code",
   "execution_count": 66,
   "metadata": {},
   "outputs": [
    {
     "data": {
      "text/latex": [
       "$\\displaystyle \\frac{\\sinh{\\left(2 \\chi{\\left(\\tau \\right)} \\right)}}{2 \\tanh{\\left(\\chi{\\left(\\tau \\right)} \\right)}} - \\cosh{\\left(2 \\chi{\\left(\\tau \\right)} \\right)}$"
      ],
      "text/plain": [
       "sinh(2*chi(tau))/(2*tanh(chi(tau))) - cosh(2*chi(tau))"
      ]
     },
     "execution_count": 66,
     "metadata": {},
     "output_type": "execute_result"
    }
   ],
   "source": [
    "Ricci[1][1]"
   ]
  },
  {
   "cell_type": "code",
   "execution_count": 67,
   "metadata": {},
   "outputs": [
    {
     "data": {
      "text/latex": [
       "$\\displaystyle - \\frac{2}{a^{2}}$"
      ],
      "text/plain": [
       "-2/a**2"
      ]
     },
     "execution_count": 67,
     "metadata": {},
     "output_type": "execute_result"
    }
   ],
   "source": [
    "R.simplify()"
   ]
  },
  {
   "cell_type": "markdown",
   "metadata": {},
   "source": [
    "Tiene escalar de ricci constante e igual a menos el de la esfera, es el hiperboloide. "
   ]
  },
  {
   "cell_type": "code",
   "execution_count": 18,
   "metadata": {},
   "outputs": [
    {
     "ename": "IndexError",
     "evalue": "list index out of range",
     "output_type": "error",
     "traceback": [
      "\u001b[1;31m---------------------------------------------------------------------------\u001b[0m",
      "\u001b[1;31mIndexError\u001b[0m                                Traceback (most recent call last)",
      "Cell \u001b[1;32mIn[18], line 6\u001b[0m\n\u001b[0;32m      3\u001b[0m g \u001b[38;5;241m=\u001b[39m [[\u001b[38;5;124m\"\u001b[39m\u001b[38;5;124m0\u001b[39m\u001b[38;5;124m\"\u001b[39m, \u001b[38;5;124m\"\u001b[39m\u001b[38;5;124m1/(x^2 + y^2)\u001b[39m\u001b[38;5;124m\"\u001b[39m], [\u001b[38;5;124m\"\u001b[39m\u001b[38;5;124m1/(x^2 + y^2)\u001b[39m\u001b[38;5;124m\"\u001b[39m, \u001b[38;5;124m\"\u001b[39m\u001b[38;5;124m0\u001b[39m\u001b[38;5;124m\"\u001b[39m]]\n\u001b[0;32m      5\u001b[0m \u001b[38;5;66;03m# No funciona, el programa espera que la ec. de lagrange con respecto a x sea una ec. diferencial en dot dot x\u001b[39;00m\n\u001b[1;32m----> 6\u001b[0m Gamma, Riemman, Ricci, R \u001b[38;5;241m=\u001b[39m \u001b[43mcomputar\u001b[49m\u001b[43m(\u001b[49m\u001b[43mvariables\u001b[49m\u001b[43m,\u001b[49m\u001b[43m \u001b[49m\u001b[43mg\u001b[49m\u001b[43m)\u001b[49m \n",
      "Cell \u001b[1;32mIn[17], line 33\u001b[0m, in \u001b[0;36mcomputar\u001b[1;34m(variables_str, g)\u001b[0m\n\u001b[0;32m     29\u001b[0m Gamma \u001b[38;5;241m=\u001b[39m [[[\u001b[38;5;241m0\u001b[39m \u001b[38;5;28;01mfor\u001b[39;00m _ \u001b[38;5;129;01min\u001b[39;00m \u001b[38;5;28mrange\u001b[39m(n)] \u001b[38;5;28;01mfor\u001b[39;00m _ \u001b[38;5;129;01min\u001b[39;00m \u001b[38;5;28mrange\u001b[39m(n)] \u001b[38;5;28;01mfor\u001b[39;00m _ \u001b[38;5;129;01min\u001b[39;00m \u001b[38;5;28mrange\u001b[39m(n)] \u001b[38;5;66;03m# Matriz 2*2*2\u001b[39;00m\n\u001b[0;32m     31\u001b[0m \u001b[38;5;28;01mfor\u001b[39;00m i \u001b[38;5;129;01min\u001b[39;00m \u001b[38;5;28mrange\u001b[39m(\u001b[38;5;241m0\u001b[39m, n): \u001b[38;5;66;03m# primer indice\u001b[39;00m\n\u001b[0;32m     32\u001b[0m     \u001b[38;5;66;03m# Resolvemos d^2/dt^2 (v^i) = elem\u001b[39;00m\n\u001b[1;32m---> 33\u001b[0m     elem \u001b[38;5;241m=\u001b[39m \u001b[43msmp\u001b[49m\u001b[38;5;241;43m.\u001b[39;49m\u001b[43msolve\u001b[49m\u001b[43m(\u001b[49m\u001b[43meel\u001b[49m\u001b[43m[\u001b[49m\u001b[43mi\u001b[49m\u001b[43m]\u001b[49m\u001b[43m,\u001b[49m\u001b[43m \u001b[49m\u001b[43msmp\u001b[49m\u001b[38;5;241;43m.\u001b[39;49m\u001b[43mdiff\u001b[49m\u001b[43m(\u001b[49m\u001b[43mvariables\u001b[49m\u001b[43m[\u001b[49m\u001b[43mi\u001b[49m\u001b[43m]\u001b[49m\u001b[43m,\u001b[49m\u001b[43m \u001b[49m\u001b[43mtau\u001b[49m\u001b[43m,\u001b[49m\u001b[43m \u001b[49m\u001b[43mtau\u001b[49m\u001b[43m)\u001b[49m\u001b[43m)\u001b[49m\u001b[43m[\u001b[49m\u001b[38;5;241;43m0\u001b[39;49m\u001b[43m]\u001b[49m\n\u001b[0;32m     34\u001b[0m     elem \u001b[38;5;241m=\u001b[39m smp\u001b[38;5;241m.\u001b[39mexpand(elem)\n\u001b[0;32m     35\u001b[0m     \u001b[38;5;66;03m# elem será una suma de coeficientes lineares en las derivadas de las variables_tau\u001b[39;00m\n\u001b[0;32m     36\u001b[0m     \u001b[38;5;66;03m# Por ahora hacemos un loop doble, pero tal vez sería posible extraer las derivadas directamente\u001b[39;00m\n\u001b[0;32m     37\u001b[0m     \u001b[38;5;66;03m# https://docs.sympy.org/latest/index.html\u001b[39;00m\n",
      "\u001b[1;31mIndexError\u001b[0m: list index out of range"
     ]
    }
   ],
   "source": [
    "# Ejercicio 8: apartado b\n",
    "variables = \"x y\"\n",
    "g = [[\"0\", \"1/(x^2 + y^2)\"], [\"1/(x^2 + y^2)\", \"0\"]]\n",
    "\n",
    "# No funciona, el programa espera que la ec. de lagrange con respecto a x sea una ec. diferencial en dot dot x\n",
    "Gamma, Riemman, Ricci, R = computar(variables, g) "
   ]
  },
  {
   "cell_type": "code",
   "execution_count": 68,
   "metadata": {},
   "outputs": [],
   "source": [
    "# Ejercicio 11: apartado b\n",
    "variables = \"r theta\"\n",
    "g = [[\"1\", \"0\"], [\"0\", \"r(tau)^2\"]]\n",
    "\n",
    "Gamma, Riemman, Ricci, R = computar(variables, g) "
   ]
  },
  {
   "cell_type": "code",
   "execution_count": 69,
   "metadata": {},
   "outputs": [
    {
     "data": {
      "text/latex": [
       "$\\displaystyle 0$"
      ],
      "text/plain": [
       "0"
      ]
     },
     "execution_count": 69,
     "metadata": {},
     "output_type": "execute_result"
    }
   ],
   "source": [
    "R # Curvatura cero, estamos en el plano"
   ]
  },
  {
   "cell_type": "code",
   "execution_count": 70,
   "metadata": {},
   "outputs": [],
   "source": [
    "# Ejercicio 13\n",
    "variables = \"theta phi\"\n",
    "g = [\n",
    "        [\"(b + a*sin(phi(tau)))^2\", \"0\"], \n",
    "        [\"0\", \"a^2\"]\n",
    "]\n",
    "\n",
    "Gamma, Riemman, Ricci, R = computar(variables, g) "
   ]
  },
  {
   "cell_type": "code",
   "execution_count": 71,
   "metadata": {},
   "outputs": [
    {
     "data": {
      "text/latex": [
       "$\\displaystyle \\frac{a \\cos{\\left(\\phi{\\left(\\tau \\right)} \\right)}}{a \\sin{\\left(\\phi{\\left(\\tau \\right)} \\right)} + b}$"
      ],
      "text/plain": [
       "a*cos(phi(tau))/(a*sin(phi(tau)) + b)"
      ]
     },
     "execution_count": 71,
     "metadata": {},
     "output_type": "execute_result"
    }
   ],
   "source": [
    "Gamma[0][1][0]"
   ]
  },
  {
   "cell_type": "code",
   "execution_count": 72,
   "metadata": {},
   "outputs": [
    {
     "data": {
      "text/latex": [
       "$\\displaystyle - \\frac{\\left(a \\sin{\\left(\\phi{\\left(\\tau \\right)} \\right)} + b\\right) \\cos{\\left(\\phi{\\left(\\tau \\right)} \\right)}}{a}$"
      ],
      "text/plain": [
       "-(a*sin(phi(tau)) + b)*cos(phi(tau))/a"
      ]
     },
     "execution_count": 72,
     "metadata": {},
     "output_type": "execute_result"
    }
   ],
   "source": [
    "Gamma[1][0][0].factor()"
   ]
  },
  {
   "cell_type": "code",
   "execution_count": 73,
   "metadata": {},
   "outputs": [
    {
     "data": {
      "text/latex": [
       "$\\displaystyle \\frac{\\left(a \\sin{\\left(\\phi{\\left(\\tau \\right)} \\right)} + b\\right) \\sin{\\left(\\phi{\\left(\\tau \\right)} \\right)}}{a}$"
      ],
      "text/plain": [
       "(a*sin(phi(tau)) + b)*sin(phi(tau))/a"
      ]
     },
     "execution_count": 73,
     "metadata": {},
     "output_type": "execute_result"
    }
   ],
   "source": [
    "Riemman[1][0][1][0]"
   ]
  },
  {
   "cell_type": "code",
   "execution_count": 74,
   "metadata": {},
   "outputs": [
    {
     "data": {
      "text/latex": [
       "$\\displaystyle \\frac{a \\sin{\\left(\\phi{\\left(\\tau \\right)} \\right)}}{a \\sin{\\left(\\phi{\\left(\\tau \\right)} \\right)} + b}$"
      ],
      "text/plain": [
       "a*sin(phi(tau))/(a*sin(phi(tau)) + b)"
      ]
     },
     "execution_count": 74,
     "metadata": {},
     "output_type": "execute_result"
    }
   ],
   "source": [
    "Riemman[0][1][0][1]"
   ]
  },
  {
   "cell_type": "code",
   "execution_count": 75,
   "metadata": {},
   "outputs": [
    {
     "data": {
      "text/latex": [
       "$\\displaystyle \\frac{\\left(a \\sin{\\left(\\phi{\\left(\\tau \\right)} \\right)} + b\\right) \\sin{\\left(\\phi{\\left(\\tau \\right)} \\right)}}{a}$"
      ],
      "text/plain": [
       "(a*sin(phi(tau)) + b)*sin(phi(tau))/a"
      ]
     },
     "execution_count": 75,
     "metadata": {},
     "output_type": "execute_result"
    }
   ],
   "source": [
    "Ricci[0][0]"
   ]
  },
  {
   "cell_type": "code",
   "execution_count": 76,
   "metadata": {},
   "outputs": [
    {
     "data": {
      "text/latex": [
       "$\\displaystyle \\frac{a \\sin{\\left(\\phi{\\left(\\tau \\right)} \\right)}}{a \\sin{\\left(\\phi{\\left(\\tau \\right)} \\right)} + b}$"
      ],
      "text/plain": [
       "a*sin(phi(tau))/(a*sin(phi(tau)) + b)"
      ]
     },
     "execution_count": 76,
     "metadata": {},
     "output_type": "execute_result"
    }
   ],
   "source": [
    "Ricci[1][1]"
   ]
  },
  {
   "cell_type": "code",
   "execution_count": 77,
   "metadata": {},
   "outputs": [
    {
     "data": {
      "text/latex": [
       "$\\displaystyle \\frac{2 \\sin{\\left(\\phi{\\left(\\tau \\right)} \\right)}}{a \\left(a \\sin{\\left(\\phi{\\left(\\tau \\right)} \\right)} + b\\right)}$"
      ],
      "text/plain": [
       "2*sin(phi(tau))/(a*(a*sin(phi(tau)) + b))"
      ]
     },
     "execution_count": 77,
     "metadata": {},
     "output_type": "execute_result"
    }
   ],
   "source": [
    "R"
   ]
  },
  {
   "cell_type": "markdown",
   "metadata": {},
   "source": []
  },
  {
   "cell_type": "code",
   "execution_count": null,
   "metadata": {},
   "outputs": [],
   "source": [
    "import sympy as smp\n",
    "from itertools import product\n",
    "\n",
    "def computar(variables_str, g):\n",
    "    \"\"\"\n",
    "    Con la métrica como una matriz de strings, calcular simbolos de christoffel, etc\n",
    "    Modificado para que funcione en cualquier número de dimensiones\n",
    "    \"\"\"\n",
    "    tau = smp.symbols(\"tau\")\n",
    "\n",
    "    variables = smp.symbols(variables_str, cls=smp.Function)\n",
    "    variables = [v(tau) for v in variables]\n",
    "\n",
    "    n = len(variables)\n",
    "    \n",
    "    for i, j in product(range(0, n), repeat=2):\n",
    "        g[i][j] = smp.sympify(g[i][j])\n",
    "\n",
    "    L = smp.sympify(0)\n",
    "\n",
    "    for i, j in product(range(0, n), repeat=2):\n",
    "        L += g[i][j]*smp.diff(variables[i], tau)*smp.diff(variables[j], tau)\n",
    "    \n",
    "    # Estas tres lineas toman algo de tiempo\n",
    "    eel = smp.euler_equations(L, variables, tau)\n",
    "\n",
    "    Gamma = [[[0 for _ in range(n)] for _ in range(n)] for _ in range(n)] # Matriz n*n*n\n",
    "\n",
    "    for i in range(0, n): # primer indice\n",
    "        # Resolvemos d^2/dt^2 (v^i) = elem\n",
    "        elem = smp.solve(eel[i], smp.diff(variables[i], tau, tau))[0]\n",
    "        elem = smp.expand(elem)\n",
    "        # elem será una suma de coeficientes lineares en las derivadas de las variables_tau\n",
    "        # Por ahora hacemos un loop doble, pero tal vez sería posible extraer las derivadas directamente\n",
    "        # https://docs.sympy.org/latest/index.html\n",
    "        for j, k in product(range(0, n), repeat=2):\n",
    "            var = smp.diff(variables[j], tau)*smp.diff(variables[k], tau)\n",
    "            Gamma[i][j][k] = -elem.coeff(var)\n",
    "            if j != k: # The common pitfall\n",
    "                Gamma[i][j][k] = Gamma[i][j][k]/2\n",
    "                    \n",
    "    Riemman = [[[[0 for _ in range(n)] for _ in range(n)] for _ in range(n)] for _ in range(n)] # Matriz n*n*n*n\n",
    "\n",
    "    for i, j, k, l in product(range(0, n), repeat=4):\n",
    "        Riemman[i][j][k][l] = smp.diff(Gamma[i][l][j], variables[k]) - smp.diff(Gamma[i][k][j], variables[l])\n",
    "        for alpha in range(0, n):\n",
    "            Riemman[i][j][k][l] += Gamma[i][k][alpha]*Gamma[alpha][l][j] - Gamma[i][l][alpha]*Gamma[alpha][k][j]\n",
    "        # https://docs.sympy.org/latest/tutorials/intro-tutorial/simplification.html#trigsimp\n",
    "        # Riemman[i][j][k][l] = smp.simplify(Riemman[i][j][k][l])\n",
    "        Riemman[i][j][k][l] = smp.expand_trig(Riemman[i][j][k][l])\n",
    "        Riemman[i][j][k][l] = smp.trigsimp(Riemman[i][j][k][l])\n",
    "\n",
    "    Ricci = [[0 for _ in range(n)] for _ in range(n)] # Matriz n*n\n",
    "\n",
    "    for i, j in product(range(0, n), repeat=2):\n",
    "        for alpha in range(0, n):\n",
    "            Ricci[i][j] += Riemman[alpha][i][alpha][j]\n",
    "\n",
    "    R = smp.sympify(0)\n",
    "\n",
    "    # g_inversa = inverso_analitico(g)\n",
    "\n",
    "    for i, j in product(range(0, n), repeat=2):\n",
    "        R += (smp.Matrix(g)**(-1)).row(i)[j]*Ricci[i][j]\n",
    "        # R += g_inversa[i][j]*Ricci[i][j]\n",
    "    R = smp.expand_trig(R)\n",
    "    R = smp.trigsimp(R)\n",
    "    return Gamma, Riemman, Ricci, R\n",
    "\n",
    "def calcular_metrica(variables_str, cambios_str, as_strings=True):\n",
    "    \"\"\"\n",
    "    Calcula la métrica de un cambio de coordenadas aleatorio en el espacio plano. Necesita las nuevas coordenadas y las \n",
    "    viejas coordenadas en función de las nuevas. \n",
    "    Ejemplo: pasar de espacio plano con (x, y, z) a espacio plano con (r, theta, phi) y una nueva métrica se hace con:\n",
    "    calcular_metrica([\"r\", \"theta\", \"phi\"], [\"r*sin(theta)*cos(phi)\", \"r*sin(theta)*sin(phi)\", \"r*cos(theta)\"])\n",
    "    \"\"\"\n",
    "    n = len(cambios_str)\n",
    "    g = [[0 for _ in range(0, n)] for _ in range(0, n)] # Matriz n*n\n",
    "\n",
    "    cambio = [smp.sympify(v) for v in cambios_str]\n",
    "    variables = smp.symbols(variables_str)\n",
    "\n",
    "    for i, j in product(range(0, n), repeat=2):\n",
    "        for v in cambio:\n",
    "            # Implicitamente g_(ij) de la que venimos es la delta de kroneker\n",
    "            g[i][j] += smp.diff(v, variables[i])*smp.diff(v, variables[j])\n",
    "        g[i][j] = g[i][j].simplify()\n",
    "\n",
    "    # Cambiamos las variables por variables que dependen explicitamente de tau    \n",
    "    tau = smp.symbols(\"tau\")\n",
    "    variables_tau = smp.symbols(variables_str, cls=smp.Function)\n",
    "    variables_tau = [v(tau) for v in variables_tau]\n",
    "\n",
    "    for i, j in product(range(0, n), repeat=2):\n",
    "        for k in range(0, n):\n",
    "            g[i][j] = g[i][j].subs(variables[k], variables_tau[k])\n",
    "\n",
    "    if as_strings:\n",
    "        return [[str(g[i][j]) for j in range(0, n)] for i in range(0, n)]\n",
    "    \n",
    "    return g\n",
    "\n",
    "kroneker = lambda i, j: 1 if i == j else 0\n",
    "\n",
    "def inverso_analitico(M): \n",
    "    \"\"\"\n",
    "    Calcula el inverso de la matriz M de forma analítica con la descomposición de Cayley-Hamilton\n",
    "    https://en.wikipedia.org/wiki/Invertible_matrix#Analytic_solution\n",
    "    Sólo implementado hasta orden 3\n",
    "    \"\"\"\n",
    "\n",
    "    m = len(M)\n",
    "    M_inv = [[0 for _ in range(0, m)] for _ in range(0, m)]\n",
    "\n",
    "    smp_M = smp.Matrix(M)\n",
    "\n",
    "    traza, determinante = smp.trace(smp_M), smp.Determinant(smp_M).doit()\n",
    "\n",
    "    if determinante == 0: raise ValueError(\"La matriz dada no tiene inverso\")\n",
    "\n",
    "    if m == 2:\n",
    "        for i, j in product(range(0, m), repeat=2):\n",
    "            M_inv[i][j] = (1/determinante)*(traza*kroneker(i, j) - M[i][j])\n",
    "        return M_inv\n",
    "    if m == 3:\n",
    "        traza_cuad = smp.trace(smp_M**2)\n",
    "        for i, j in product(range(0, m), repeat=2):\n",
    "            M_inv[i][j] = (1/determinante)*((1/2)*(traza**2 - traza_cuad**2)*kroneker(i, j) - M[i][j]*traza + (smp_M**2).row(i)[j])\n",
    "        return M_inv\n",
    "    \n",
    "def computar_e_imprimir(variables_str:list, g):\n",
    "    n = len(variables_str)\n",
    "\n",
    "    Gamma, Riemman, Ricci, R = computar(variables_str, g)\n",
    "        \n",
    "    v = variables_str\n",
    "\n",
    "    for i, j, k in product(range(0, n), repeat=3):\n",
    "        if Gamma[i][j][k] != 0:\n",
    "            s = str(Gamma[i][j][k]).replace(\"(tau)\", \"\")\n",
    "            print(f\"Gamma^{v[i]}_({v[j]} {v[k]}) = {s}\")\n",
    "    print()\n",
    "    for i, j, k, l in product(range(0, n), repeat=4):\n",
    "        if Riemman[i][j][k][l] != 0:\n",
    "            s = str(Riemman[i][j][k][l]).replace(\"(tau)\", \"\")\n",
    "            print(f\"Riemman^{v[i]}_({v[j]} {v[k]} {v[l]}) = {s}\")\n",
    "    print()\n",
    "    for i, j in product(range(0, n), repeat=2):\n",
    "        if Ricci[i][j] != 0:\n",
    "            s = str(Ricci[i][j]).replace(\"(tau)\", \"\")\n",
    "            print(f\"Ricci_({v[i]} {v[j]}) = {s}\")\n",
    "    print()\n",
    "    print(\"R = \", str(R).replace(\"(tau)\", \"\"))"
   ]
  },
  {
   "cell_type": "code",
   "execution_count": 4,
   "metadata": {},
   "outputs": [
    {
     "name": "stdout",
     "output_type": "stream",
     "text": [
      "Gamma^theta_(phi phi) = -sin(2*theta)/2\n",
      "Gamma^phi_(theta phi) = 1/tan(theta)\n",
      "Gamma^phi_(phi theta) = 1/tan(theta)\n",
      "\n",
      "Riemman^theta_(phi theta phi) = sin(theta)**2\n",
      "Riemman^theta_(phi phi theta) = -sin(theta)**2\n",
      "Riemman^phi_(theta theta phi) = -1\n",
      "Riemman^phi_(theta phi theta) = 1\n",
      "\n",
      "Ricci_(theta theta) = 1\n",
      "Ricci_(phi phi) = sin(theta)**2\n",
      "\n",
      "2/r**2\n"
     ]
    }
   ],
   "source": [
    "# Dos esfera\n",
    "variables = [\"r\", \"theta\", \"phi\"]\n",
    "\n",
    "g = [\n",
    "        [\"1\", \"0\", \"0\"],\n",
    "        [\"0\", \"r^2\", \"0\"],\n",
    "        [\"0\", \"0\", \"r^2*sin(theta(tau))^2\"]\n",
    "]\n",
    "\n",
    "variables = variables[1:]\n",
    "g = [row[1:] for row in g][1:]\n",
    "\n",
    "computar_e_imprimir(variables, g)"
   ]
  },
  {
   "cell_type": "code",
   "execution_count": 5,
   "metadata": {},
   "outputs": [
    {
     "name": "stdout",
     "output_type": "stream",
     "text": [
      "Gamma^theta_(varphi varphi) = -sin(theta)*cos(theta)\n",
      "Gamma^theta_(phi phi) = -sin(theta)*sin(varphi)**2*cos(theta)\n",
      "Gamma^varphi_(theta varphi) = 1/tan(theta)\n",
      "Gamma^varphi_(varphi theta) = 1/tan(theta)\n",
      "Gamma^varphi_(phi phi) = -sin(2*varphi)/2\n",
      "Gamma^phi_(theta phi) = 1/tan(theta)\n",
      "Gamma^phi_(varphi phi) = 1/tan(varphi)\n",
      "Gamma^phi_(phi theta) = 1/tan(theta)\n",
      "Gamma^phi_(phi varphi) = 1/tan(varphi)\n",
      "\n",
      "Riemman^theta_(varphi theta varphi) = sin(theta)**2\n",
      "Riemman^theta_(varphi varphi theta) = -sin(theta)**2\n",
      "Riemman^theta_(phi theta phi) = sin(theta)**2*sin(varphi)**2\n",
      "Riemman^theta_(phi phi theta) = -sin(theta)**2*sin(varphi)**2\n",
      "Riemman^varphi_(theta theta varphi) = -1\n",
      "Riemman^varphi_(theta varphi theta) = 1\n",
      "Riemman^varphi_(phi varphi phi) = sin(theta)**2*sin(varphi)**2\n",
      "Riemman^varphi_(phi phi varphi) = -sin(theta)**2*sin(varphi)**2\n",
      "Riemman^phi_(theta theta phi) = -1\n",
      "Riemman^phi_(theta phi theta) = 1\n",
      "Riemman^phi_(varphi varphi phi) = -sin(theta)**2\n",
      "Riemman^phi_(varphi phi varphi) = sin(theta)**2\n",
      "\n",
      "Ricci_(theta theta) = 2\n",
      "Ricci_(varphi varphi) = 2*sin(theta)**2\n",
      "Ricci_(phi phi) = 2*sin(theta)**2*sin(varphi)**2\n",
      "\n",
      "6/r(tau)**2\n"
     ]
    }
   ],
   "source": [
    "# Tres esfera\n",
    "v = [\"r\", \"theta\", \"varphi\", \"phi\"]\n",
    "old_v = [\"r*cos(theta)\", \"r*sin(theta)*cos(varphi)\", \"r*sin(theta)*sin(varphi)*cos(phi)\", \"r*sin(theta)*sin(varphi)*sin(phi)\"]\n",
    "\n",
    "g = calcular_metrica(v, old_v)\n",
    "\n",
    "v = v[1:]\n",
    "g = [row[1:] for row in g][1:]\n",
    "\n",
    "computar_e_imprimir(v, g)"
   ]
  },
  {
   "cell_type": "code",
   "execution_count": 27,
   "metadata": {},
   "outputs": [
    {
     "name": "stdout",
     "output_type": "stream",
     "text": [
      "Gamma^theta_(theta phi) = a*cos(phi)/(a*sin(phi) + b)\n",
      "Gamma^theta_(phi theta) = a*cos(phi)/(a*sin(phi) + b)\n",
      "Gamma^phi_(theta theta) = -sin(phi)*cos(phi) - b*cos(phi)/a\n",
      "\n",
      "Riemman^theta_(phi theta phi) = a*sin(phi)/(a*sin(phi) + b)\n",
      "Riemman^theta_(phi phi theta) = -a*sin(phi)/(a*sin(phi) + b)\n",
      "Riemman^phi_(theta theta phi) = -(sin(phi) + b/a)*sin(phi)\n",
      "Riemman^phi_(theta phi theta) = (sin(phi) + b/a)*sin(phi)\n",
      "\n",
      "Ricci_(theta theta) = (sin(phi) + b/a)*sin(phi)\n",
      "Ricci_(phi phi) = a*sin(phi)/(a*sin(phi) + b)\n",
      "\n",
      "2*sin(phi(tau))/(a*(a*sin(phi(tau)) + b))\n"
     ]
    }
   ],
   "source": [
    "v = [\"r\", \"theta\", \"phi\"]\n",
    "old_v = [\"(b + a*sin(phi))*cos(theta)\", \"(b + a*sin(phi))*sin(theta)\", \"a*cos(phi)\"]\n",
    "\n",
    "g = calcular_metrica(v, old_v)\n",
    "\n",
    "v = v[1:]\n",
    "g = [row[1:] for row in g][1:]\n",
    "\n",
    "computar_e_imprimir(v, g)"
   ]
  },
  {
   "cell_type": "code",
   "execution_count": 6,
   "metadata": {},
   "outputs": [
    {
     "data": {
      "text/plain": [
       "[['0', '0', '0'], ['0', '(a*cos(phi(tau)) + b)**2', '0'], ['0', '0', 'a**2']]"
      ]
     },
     "execution_count": 6,
     "metadata": {},
     "output_type": "execute_result"
    }
   ],
   "source": [
    "#Cambio de phi -> phi + pi/2, Cambia sinphi->cosphi, cosphi -> -sinphi\n",
    "v = [\"r\", \"theta\", \"phi\"]\n",
    "old_v = [\"(b + a*cos(phi))*cos(theta)\", \"(b + a*cos(phi))*sin(theta)\", \"-a*sin(phi)\"]\n",
    "\n",
    "calcular_metrica(v, old_v)"
   ]
  },
  {
   "cell_type": "code",
   "execution_count": 7,
   "metadata": {},
   "outputs": [
    {
     "ename": "IndexError",
     "evalue": "list index out of range",
     "output_type": "error",
     "traceback": [
      "\u001b[1;31m---------------------------------------------------------------------------\u001b[0m",
      "\u001b[1;31mIndexError\u001b[0m                                Traceback (most recent call last)",
      "Cell \u001b[1;32mIn[7], line 6\u001b[0m\n\u001b[0;32m      3\u001b[0m g \u001b[38;5;241m=\u001b[39m [[\u001b[38;5;124m\"\u001b[39m\u001b[38;5;124m0\u001b[39m\u001b[38;5;124m\"\u001b[39m, \u001b[38;5;124m\"\u001b[39m\u001b[38;5;124m1/(x^2 + y^2)\u001b[39m\u001b[38;5;124m\"\u001b[39m], [\u001b[38;5;124m\"\u001b[39m\u001b[38;5;124m1/(x^2 + y^2)\u001b[39m\u001b[38;5;124m\"\u001b[39m, \u001b[38;5;124m\"\u001b[39m\u001b[38;5;124m0\u001b[39m\u001b[38;5;124m\"\u001b[39m]]\n\u001b[0;32m      5\u001b[0m \u001b[38;5;66;03m# No funciona, el programa espera que la ec. de lagrange con respecto a x sea una ec. diferencial en dot dot x\u001b[39;00m\n\u001b[1;32m----> 6\u001b[0m Gamma, Riemman, Ricci, R \u001b[38;5;241m=\u001b[39m \u001b[43mcomputar\u001b[49m\u001b[43m(\u001b[49m\u001b[43mvariables\u001b[49m\u001b[43m,\u001b[49m\u001b[43m \u001b[49m\u001b[43mg\u001b[49m\u001b[43m)\u001b[49m \n",
      "Cell \u001b[1;32mIn[2], line 31\u001b[0m, in \u001b[0;36mcomputar\u001b[1;34m(variables_str, g)\u001b[0m\n\u001b[0;32m     27\u001b[0m Gamma \u001b[38;5;241m=\u001b[39m [[[\u001b[38;5;241m0\u001b[39m \u001b[38;5;28;01mfor\u001b[39;00m _ \u001b[38;5;129;01min\u001b[39;00m \u001b[38;5;28mrange\u001b[39m(n)] \u001b[38;5;28;01mfor\u001b[39;00m _ \u001b[38;5;129;01min\u001b[39;00m \u001b[38;5;28mrange\u001b[39m(n)] \u001b[38;5;28;01mfor\u001b[39;00m _ \u001b[38;5;129;01min\u001b[39;00m \u001b[38;5;28mrange\u001b[39m(n)] \u001b[38;5;66;03m# Matriz n*n*n\u001b[39;00m\n\u001b[0;32m     29\u001b[0m \u001b[38;5;28;01mfor\u001b[39;00m i \u001b[38;5;129;01min\u001b[39;00m \u001b[38;5;28mrange\u001b[39m(\u001b[38;5;241m0\u001b[39m, n): \u001b[38;5;66;03m# primer indice\u001b[39;00m\n\u001b[0;32m     30\u001b[0m     \u001b[38;5;66;03m# Resolvemos d^2/dt^2 (v^i) = elem\u001b[39;00m\n\u001b[1;32m---> 31\u001b[0m     elem \u001b[38;5;241m=\u001b[39m \u001b[43msmp\u001b[49m\u001b[38;5;241;43m.\u001b[39;49m\u001b[43msolve\u001b[49m\u001b[43m(\u001b[49m\u001b[43meel\u001b[49m\u001b[43m[\u001b[49m\u001b[43mi\u001b[49m\u001b[43m]\u001b[49m\u001b[43m,\u001b[49m\u001b[43m \u001b[49m\u001b[43msmp\u001b[49m\u001b[38;5;241;43m.\u001b[39;49m\u001b[43mdiff\u001b[49m\u001b[43m(\u001b[49m\u001b[43mvariables\u001b[49m\u001b[43m[\u001b[49m\u001b[43mi\u001b[49m\u001b[43m]\u001b[49m\u001b[43m,\u001b[49m\u001b[43m \u001b[49m\u001b[43mtau\u001b[49m\u001b[43m,\u001b[49m\u001b[43m \u001b[49m\u001b[43mtau\u001b[49m\u001b[43m)\u001b[49m\u001b[43m)\u001b[49m\u001b[43m[\u001b[49m\u001b[38;5;241;43m0\u001b[39;49m\u001b[43m]\u001b[49m\n\u001b[0;32m     32\u001b[0m     elem \u001b[38;5;241m=\u001b[39m smp\u001b[38;5;241m.\u001b[39mexpand(elem)\n\u001b[0;32m     33\u001b[0m     \u001b[38;5;66;03m# elem será una suma de coeficientes lineares en las derivadas de las variables_tau\u001b[39;00m\n\u001b[0;32m     34\u001b[0m     \u001b[38;5;66;03m# Por ahora hacemos un loop doble, pero tal vez sería posible extraer las derivadas directamente\u001b[39;00m\n\u001b[0;32m     35\u001b[0m     \u001b[38;5;66;03m# https://docs.sympy.org/latest/index.html\u001b[39;00m\n",
      "\u001b[1;31mIndexError\u001b[0m: list index out of range"
     ]
    }
   ],
   "source": [
    "# Ejercicio 8: apartado b\n",
    "variables = \"x y\"\n",
    "g = [[\"0\", \"1/(x^2 + y^2)\"], [\"1/(x^2 + y^2)\", \"0\"]]\n",
    "\n",
    "# No funciona, el programa espera que la ec. de lagrange con respecto a x sea una ec. diferencial en dot dot x\n",
    "Gamma, Riemman, Ricci, R = computar(variables, g) "
   ]
  },
  {
   "cell_type": "code",
   "execution_count": 10,
   "metadata": {},
   "outputs": [
    {
     "name": "stdout",
     "output_type": "stream",
     "text": [
      "[['0', '0', '0'], ['0', '4*(cos(2*u)*cos(2*v) + 4)**2 + (48*sin(3*v) - 5*sin(2*u - 5*v) + sin(2*u - v) + sin(2*u + v) - 5*sin(2*u + 5*v))**2/16 + (48*cos(3*v) + 5*cos(2*u - 5*v) - cos(2*u - v) + cos(2*u + v) - 5*cos(2*u + 5*v))**2/16', '-16*sin(2*u)*sin(2*v)'], ['0', '-16*sin(2*u)*sin(2*v)', '4*sin(2*v)**2']]\n",
      "[['4*(cos(2*u)*cos(2*v) + 4)**2 + (48*sin(3*v) - 5*sin(2*u - 5*v) + sin(2*u - v) + sin(2*u + v) - 5*sin(2*u + 5*v))**2/16 + (48*cos(3*v) + 5*cos(2*u - 5*v) - cos(2*u - v) + cos(2*u + v) - 5*cos(2*u + 5*v))**2/16', '-16*sin(2*u)*sin(2*v)'], ['-16*sin(2*u)*sin(2*v)', '4*sin(2*v)**2']]\n"
     ]
    }
   ],
   "source": [
    "# Esta superficie \n",
    "v = [\"d\", \"v\", \"u\"] # d es una variable muda\n",
    "old_v = [\"(4 + sin(2*v)*sin(2*u))*sin(3*v)\", \"sin(2*v)*cos(2*u) + 8*v - 4\" ,\"(4 + sin(2*v)*sin(2*u))*cos(3*v)\"]\n",
    "\n",
    "g = calcular_metrica(v, old_v)\n",
    "print(g)\n",
    "\n",
    "# Reducimos la métrica de esta manera para calcular las propiedades de la superficie intrinsicamente\n",
    "v = v[1:]\n",
    "g = [g[i][1:] for i in [1, 2]]\n",
    "print(g)\n",
    "\n",
    "Gamma, Riemman, Ricci, R = computar(v, g) # se queda atascado encontrando la inversa de la matriz\n",
    "# https://en.wikipedia.org/wiki/Invertible_matrix#Analytic_solution"
   ]
  },
  {
   "cell_type": "code",
   "execution_count": 9,
   "metadata": {},
   "outputs": [
    {
     "data": {
      "text/plain": [
       "[[4*(cos(2*u)*cos(2*v) + 4)**2 + (48*sin(3*v) - 5*sin(2*u - 5*v) + sin(2*u - v) + sin(2*u + v) - 5*sin(2*u + 5*v))**2/16 + (48*cos(3*v) + 5*cos(2*u - 5*v) - cos(2*u - v) + cos(2*u + v) - 5*cos(2*u + 5*v))**2/16,\n",
       "  -16*sin(2*u)*sin(2*v)],\n",
       " [-16*sin(2*u)*sin(2*v), 4*sin(2*v)**2]]"
      ]
     },
     "execution_count": 9,
     "metadata": {},
     "output_type": "execute_result"
    }
   ],
   "source": [
    "g"
   ]
  },
  {
   "cell_type": "code",
   "execution_count": null,
   "metadata": {},
   "outputs": [],
   "source": []
  }
 ],
 "metadata": {
  "kernelspec": {
   "display_name": "Python 3",
   "language": "python",
   "name": "python3"
  },
  "language_info": {
   "codemirror_mode": {
    "name": "ipython",
    "version": 3
   },
   "file_extension": ".py",
   "mimetype": "text/x-python",
   "name": "python",
   "nbconvert_exporter": "python",
   "pygments_lexer": "ipython3",
   "version": "3.11.1"
  }
 },
 "nbformat": 4,
 "nbformat_minor": 2
}
